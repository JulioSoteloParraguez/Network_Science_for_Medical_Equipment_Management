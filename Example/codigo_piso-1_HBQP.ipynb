{
 "cells": [
  {
   "cell_type": "markdown",
   "id": "deba02b8-0828-4b6c-a94c-0d7cbde11aca",
   "metadata": {
    "id": "deba02b8-0828-4b6c-a94c-0d7cbde11aca"
   },
   "source": [
    "# Piso -1"
   ]
  },
  {
   "cell_type": "code",
   "execution_count": 1,
   "id": "0hkLxMFXM5pj",
   "metadata": {
    "colab": {
     "base_uri": "https://localhost:8080/"
    },
    "id": "0hkLxMFXM5pj",
    "outputId": "0c620f96-c232-461b-b520-1cefac53ed6f"
   },
   "outputs": [],
   "source": [
    "#from google.colab import drive\n",
    "#drive.mount('/content/drive')\n"
   ]
  },
  {
   "cell_type": "code",
   "execution_count": 2,
   "id": "8d38b582-8737-42f1-be42-c1d6f0996b87",
   "metadata": {
    "id": "8d38b582-8737-42f1-be42-c1d6f0996b87"
   },
   "outputs": [],
   "source": [
    "import numpy as np\n",
    "import pandas as pd\n",
    "import networkx as nx\n",
    "import matplotlib.pyplot as plt\n",
    "import matplotlib as mpl\n",
    "import datetime\n",
    "import pytz\n",
    "%matplotlib inline"
   ]
  },
  {
   "cell_type": "code",
   "execution_count": 3,
   "id": "ae28f1ec-90bf-4402-b94c-af08a077c241",
   "metadata": {
    "id": "ae28f1ec-90bf-4402-b94c-af08a077c241"
   },
   "outputs": [],
   "source": [
    "#df1 = pd.read_excel('/content/drive/MyDrive/Proyecto de Título -Localización y gestión de equipamiento médico/Proyecto/Codigo-HBQP/Conexión nodos-HBQP-piso-1.xlsx')\n",
    "#df2 = pd.read_excel('/content/drive/MyDrive/Proyecto de Título -Localización y gestión de equipamiento médico/Proyecto/Codigo-HBQP/Conexión enlaces-HBQP-piso-1.xlsx')"
   ]
  },
  {
   "cell_type": "code",
   "execution_count": 4,
   "id": "08602f70-25a5-4c10-9b07-8f72b51541e6",
   "metadata": {},
   "outputs": [],
   "source": [
    "df1 = pd.read_excel('Conexión nodos-HBQP-piso-1.xlsx')\n",
    "df2 = pd.read_excel('Conexión enlaces-HBQP-piso-1.xlsx')"
   ]
  },
  {
   "cell_type": "code",
   "execution_count": 5,
   "id": "6d125045-e4ff-4bca-91b1-c358ae136dcd",
   "metadata": {
    "id": "6d125045-e4ff-4bca-91b1-c358ae136dcd",
    "tags": []
   },
   "outputs": [],
   "source": [
    "df1 = df1.replace(np.nan, '')"
   ]
  },
  {
   "cell_type": "code",
   "execution_count": 6,
   "id": "a647fd5d-f204-4f6e-bf28-e07d085ee0e6",
   "metadata": {
    "colab": {
     "base_uri": "https://localhost:8080/",
     "height": 206
    },
    "id": "a647fd5d-f204-4f6e-bf28-e07d085ee0e6",
    "outputId": "b32ec10b-7678-4130-a783-36ae7ed17cc5",
    "tags": []
   },
   "outputs": [
    {
     "data": {
      "text/html": [
       "<div>\n",
       "<style scoped>\n",
       "    .dataframe tbody tr th:only-of-type {\n",
       "        vertical-align: middle;\n",
       "    }\n",
       "\n",
       "    .dataframe tbody tr th {\n",
       "        vertical-align: top;\n",
       "    }\n",
       "\n",
       "    .dataframe thead th {\n",
       "        text-align: right;\n",
       "    }\n",
       "</style>\n",
       "<table border=\"1\" class=\"dataframe\">\n",
       "  <thead>\n",
       "    <tr style=\"text-align: right;\">\n",
       "      <th></th>\n",
       "      <th>Nodo1</th>\n",
       "      <th>Nodo2</th>\n",
       "      <th>Piso</th>\n",
       "    </tr>\n",
       "  </thead>\n",
       "  <tbody>\n",
       "    <tr>\n",
       "      <th>0</th>\n",
       "      <td>C-S1-1</td>\n",
       "      <td>C-S1-4</td>\n",
       "      <td>piso -1</td>\n",
       "    </tr>\n",
       "    <tr>\n",
       "      <th>1</th>\n",
       "      <td>C-S1-3</td>\n",
       "      <td>C-S1-5</td>\n",
       "      <td>piso -1</td>\n",
       "    </tr>\n",
       "    <tr>\n",
       "      <th>2</th>\n",
       "      <td>C-S1-4</td>\n",
       "      <td>C-S1-5</td>\n",
       "      <td>piso -1</td>\n",
       "    </tr>\n",
       "    <tr>\n",
       "      <th>3</th>\n",
       "      <td>C-S1-5</td>\n",
       "      <td>EQ-1</td>\n",
       "      <td>piso -1</td>\n",
       "    </tr>\n",
       "    <tr>\n",
       "      <th>4</th>\n",
       "      <td>EQ-1</td>\n",
       "      <td>P-8</td>\n",
       "      <td>piso -1</td>\n",
       "    </tr>\n",
       "  </tbody>\n",
       "</table>\n",
       "</div>"
      ],
      "text/plain": [
       "    Nodo1   Nodo2    Piso \n",
       "0  C-S1-1  C-S1-4  piso -1\n",
       "1  C-S1-3  C-S1-5  piso -1\n",
       "2  C-S1-4  C-S1-5  piso -1\n",
       "3  C-S1-5    EQ-1  piso -1\n",
       "4    EQ-1     P-8  piso -1"
      ]
     },
     "execution_count": 6,
     "metadata": {},
     "output_type": "execute_result"
    }
   ],
   "source": [
    "df2.head(5)"
   ]
  },
  {
   "cell_type": "code",
   "execution_count": 7,
   "id": "Oi4XVrqz70pC",
   "metadata": {
    "id": "Oi4XVrqz70pC"
   },
   "outputs": [],
   "source": [
    "# inicializamos el grafo\n",
    "G = nx.Graph()"
   ]
  },
  {
   "cell_type": "code",
   "execution_count": 8,
   "id": "AwVcINU68Ecc",
   "metadata": {
    "id": "AwVcINU68Ecc"
   },
   "outputs": [],
   "source": [
    "# asignamos nodos al grafo\n",
    "for idx in range(df1.shape[0]):\n",
    "    G.add_node(df1['Nodo'][idx], Planta=df1['Piso'][idx])"
   ]
  },
  {
   "cell_type": "code",
   "execution_count": 9,
   "id": "YVW3If2Y6z71",
   "metadata": {
    "colab": {
     "base_uri": "https://localhost:8080/"
    },
    "id": "YVW3If2Y6z71",
    "outputId": "bc9a5830-be25-4054-b20f-20a7688fce52"
   },
   "outputs": [
    {
     "name": "stdout",
     "output_type": "stream",
     "text": [
      "43\n"
     ]
    }
   ],
   "source": [
    "print(idx)"
   ]
  },
  {
   "cell_type": "markdown",
   "id": "733c2af4-fbb5-41cf-80b7-33be927f02fc",
   "metadata": {
    "id": "733c2af4-fbb5-41cf-80b7-33be927f02fc"
   },
   "source": [
    "## Enlaces"
   ]
  },
  {
   "cell_type": "code",
   "execution_count": 10,
   "id": "BFjFxpZx9Vh5",
   "metadata": {
    "id": "BFjFxpZx9Vh5"
   },
   "outputs": [],
   "source": [
    "# asignamos los enlaces al grafo\n",
    "for idx in range(df2.shape[0]):\n",
    "    for idx2 in range(df1.shape[0]):\n",
    "        if df1['Nodo'][idx2] == df2['Nodo1'][idx]:\n",
    "            var1 = np.array([df1['Distancia x'][idx2],df1['Distancia y'][idx2]])\n",
    "    \n",
    "        elif df1['Nodo'][idx2] == df2['Nodo2'][idx]:\n",
    "            var2 = np.array([df1['Distancia x'][idx2],df1['Distancia y'][idx2]])\n",
    "\n",
    "    distancia = np.sqrt(np.sum((var1-var2)**2))      \n",
    "    G.add_edge(df2['Nodo1'][idx], df2['Nodo2'][idx], Planta=df2['Piso '][idx], distancia=distancia)"
   ]
  },
  {
   "cell_type": "code",
   "execution_count": 11,
   "id": "lIJDyvAH4g1Q",
   "metadata": {
    "colab": {
     "base_uri": "https://localhost:8080/"
    },
    "id": "lIJDyvAH4g1Q",
    "outputId": "931f042f-762a-451a-b542-88150bc7d85b"
   },
   "outputs": [
    {
     "data": {
      "text/plain": [
       "EdgeDataView([])"
      ]
     },
     "execution_count": 11,
     "metadata": {},
     "output_type": "execute_result"
    }
   ],
   "source": [
    "G.edges(\"B-1-28\")"
   ]
  },
  {
   "cell_type": "markdown",
   "id": "aa7275e5-bc92-4bfa-87c4-b70a0e3ce7c9",
   "metadata": {
    "id": "aa7275e5-bc92-4bfa-87c4-b70a0e3ce7c9"
   },
   "source": [
    "## Generación de Red\n"
   ]
  },
  {
   "cell_type": "code",
   "execution_count": 12,
   "id": "mW9FinQ6uAl_",
   "metadata": {
    "colab": {
     "base_uri": "https://localhost:8080/"
    },
    "id": "mW9FinQ6uAl_",
    "outputId": "bd4266d5-d976-4019-c939-befde71c604d"
   },
   "outputs": [],
   "source": [
    "# generamos el vector de posicion para estandarizar las coordenadas de la red\n",
    "pos = []\n",
    "for idx2 in range(df1.shape[0]):\n",
    "    tupla_coor = (df1['Distancia x'][idx2],df1['Distancia y'][idx2])\n",
    "    nombre = df1['Nodo'][idx2]\n",
    "    pos.append([nombre,tupla_coor])\n",
    "pos = dict(pos)"
   ]
  },
  {
   "cell_type": "code",
   "execution_count": 13,
   "id": "ded862e7-7d2d-4d8a-baa3-3235ab8385b9",
   "metadata": {},
   "outputs": [
    {
     "name": "stdout",
     "output_type": "stream",
     "text": [
      "{'C-S1-1': (135.0, 17.0, 90), 'C-S1-3': (135.0, 12.0, 90), 'C-S1-4': (197.0, 17.0, 90), 'C-S1-5': (190.0, 12.0, 90)}\n",
      "[['C-S1-1', (135.0, 17.0, 90)], ['C-S1-3', (135.0, 12.0, 90)], ['C-S1-4', (197.0, 17.0, 90)], ['C-S1-5', (190.0, 12.0, 90)], ['EQ-1', ('', '', 90)], ['P-1', ('', '', 90)], ['P-2', ('', '', 90)], ['P-3', ('', '', 90)], ['P-4', ('', '', 90)], ['P-5', ('', '', 90)], ['P-6', ('', '', 90)], ['P-7', ('', '', 90)], ['P-8', ('', '', 90)], ['P-9', ('', '', 90)], ['P-10', ('', '', 90)], ['P-11', ('', '', 90)], ['P-12', ('', '', 90)], ['P-13', ('', '', 90)], ['P-14', ('', '', 90)], ['P-15', ('', '', 90)], ['P-16', ('', '', 90)], ['P-17', ('', '', 90)], ['P-18', ('', '', 90)], ['P-19', ('', '', 90)], ['P-20', ('', '', 90)], ['P-21', ('', '', 90)], ['P-22', ('', '', 90)], ['P-23', ('', '', 90)], ['P-24', ('', '', 90)], ['P-25', ('', '', 90)], ['ESC 1', (8.0, -19.0, 90)], ['ESC 2', (205.0, -16.0, 90)], ['ESC 3', (418.0, -16.0, 90)], ['ASC C-EQ 1', (33.0, -19.0, 90)], ['ASC C-EQ 2', (230.0, -17.0, 90)], ['ASC C-EQ 3', (443.0, -19.0, 90)], ['ASC C-EQ 5', (43.0, 21.0, 90)], ['ASC C-EQ 6', (310.0, 22.0, 90)], ['ASC P 1', (33.0, -28.0, 90)], ['ASC P 2', (230.0, -30.0, 90)], ['ASC P 3', (443.0, -28.0, 90)], ['ASC P 6', (49.0, 16.0, 90)], ['ASC P 7', (310.0, 33.0, 90)], ['ASC P 9', (443.0, 18.0, 90)]]\n"
     ]
    }
   ],
   "source": [
    "#Generamos  vector de posicion para los nombres\n",
    "pos_t = []\n",
    "for idx2 in range(4):\n",
    "    tupla_coor_t = (df1['Cor_tex x'][idx2],df1['Cor_tex y'][idx2],df1['rotacion'][idx2])\n",
    "    nombre = df1['Nodo'][idx2]\n",
    "    pos_t.append([nombre,tupla_coor_t])\n",
    "pos_t = dict(pos_t)\n",
    "print(pos_t)\n",
    "pos_te = []\n",
    "for idx2 in range(44):\n",
    "    tupla_coor_te = (df1['Cor_tex x'][idx2],df1['Cor_tex y'][idx2],df1['rotacion'][idx2])\n",
    "    nombre = df1['Nodo'][idx2]\n",
    "    pos_te.append([nombre,tupla_coor_te])\n",
    "pos_t = dict(pos_te)\n",
    "print(pos_te)"
   ]
  },
  {
   "cell_type": "code",
   "execution_count": 14,
   "id": "AaJ8S_NCXXoz",
   "metadata": {
    "colab": {
     "base_uri": "https://localhost:8080/",
     "height": 1000
    },
    "id": "AaJ8S_NCXXoz",
    "outputId": "e15bcd82-8c1e-43a2-eefd-855a23394042"
   },
   "outputs": [
    {
     "data": {
      "image/png": "[encoded data removed]",
      "text/plain": [
       "<Figure size 1440x1440 with 1 Axes>"
      ]
     },
     "metadata": {},
     "output_type": "display_data"
    }
   ],
   "source": [
    "# generamos un data frame solo con los nodos para poder graficar\n",
    "df_nodes = pd.DataFrame({'Nodos':G.nodes})\n",
    "fig = plt.figure(figsize=(20,20))\n",
    "plt.title('Grafo Piso -1 HBQP') \n",
    "# opciones que se repiten en todos los nodos\n",
    "options = {\"edgecolors\": \"tab:gray\", \"alpha\": 0.9}\n",
    "# mostramos todos los nodos de los pasillos\n",
    "nx.draw(G,pos, nodelist=list(df_nodes.Nodos.iloc[0:4]), node_color = \"r\",node_size=50, **options)\n",
    "nx.draw(G,pos, nodelist=list(df_nodes.Nodos.iloc[4:30]), node_color = \"b\",node_size=20, **options)\n",
    "nx.draw(G,pos, nodelist=list(df_nodes.Nodos.iloc[30:44]), node_color = \"g\",node_size=50, **options)\n",
    "#for n in df_nodes['Nodos'].iloc[0:4]:\n",
    " # plt.text(pos[n][0],pos[n][1]+0.06,s=n,fontsize=10,horizontalalignment='center',rotation=90)\n",
    "#for n in df_nodes['Nodos'].iloc[30:44]:\n",
    "#  plt.text(pos[n][0],pos[n][1]+0.06,s=n,fontsize=10,horizontalalignment='center',rotation=90)\n",
    "for n in df_nodes.Nodos.iloc[:4]:\n",
    "    plt.text(pos_t[n][0],pos_t[n][1],s=n,fontsize=10,verticalalignment='center',rotation=pos_t[n][2])\n",
    "for n in df_nodes.Nodos.iloc[30:44]:\n",
    "    plt.text(pos_t[n][0],pos_t[n][1],s=n,fontsize=10,verticalalignment='center',rotation=pos_t[n][2])\n",
    "    #print(pos[n][0])\n",
    "    #print(pos_t[n][0])\n",
    "    #print(pos[n][1])\n",
    "    #print(pos_t[n][1])\n",
    "plt.savefig(\"Grafo Piso -1 HBQP'.png\",dpi=300,bbox_inches='tight')\n",
    "plt.show()\n"
   ]
  },
  {
   "cell_type": "code",
   "execution_count": null,
   "id": "675fe2f0-1c11-4493-bbad-5d153dcdb8fb",
   "metadata": {},
   "outputs": [],
   "source": []
  },
  {
   "cell_type": "code",
   "execution_count": null,
   "id": "129ab4e9-8dfd-4c18-a0da-31208ca80d20",
   "metadata": {},
   "outputs": [],
   "source": []
  },
  {
   "cell_type": "code",
   "execution_count": null,
   "id": "5b9b3eb9-20f1-4288-aa7a-1de3ffe97aab",
   "metadata": {},
   "outputs": [],
   "source": []
  },
  {
   "cell_type": "code",
   "execution_count": null,
   "id": "03499c4e-0f69-4654-8b3a-cba1f3352f86",
   "metadata": {},
   "outputs": [],
   "source": []
  },
  {
   "cell_type": "code",
   "execution_count": null,
   "id": "6975fe68-fee5-4789-ab65-acebc5a04b16",
   "metadata": {},
   "outputs": [],
   "source": []
  }
 ],
 "metadata": {
  "colab": {
   "collapsed_sections": [],
   "provenance": []
  },
  "kernelspec": {
   "display_name": "Python 3 (ipykernel)",
   "language": "python",
   "name": "python3"
  },
  "language_info": {
   "codemirror_mode": {
    "name": "ipython",
    "version": 3
   },
   "file_extension": ".py",
   "mimetype": "text/x-python",
   "name": "python",
   "nbconvert_exporter": "python",
   "pygments_lexer": "ipython3",
   "version": "3.9.12"
  }
 },
 "nbformat": 4,
 "nbformat_minor": 5
}
